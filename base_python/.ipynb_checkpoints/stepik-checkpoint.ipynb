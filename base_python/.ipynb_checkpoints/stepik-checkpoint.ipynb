{
 "cells": [
  {
   "cell_type": "markdown",
   "metadata": {},
   "source": [
    "# Таблица умножения"
   ]
  },
  {
   "cell_type": "code",
   "execution_count": 90,
   "metadata": {},
   "outputs": [
    {
     "name": "stdout",
     "output_type": "stream",
     "text": [
      "acggtgttat\n",
      "40.0\n"
     ]
    }
   ],
   "source": [
    "a = int(input())\n",
    "b = int(input())\n",
    "c = int(input())\n",
    "d = int(input())\n",
    "print(' ',end = '\\t')\n",
    "for l in range(c, d + 1):\n",
    "    print(l, end = '\\t')\n",
    "print()\n",
    "for i in range(a, b + 1):\n",
    "    print(i, end = '\\t')\n",
    "    for j in range(c, d + 1):\n",
    "        print(i * j, end = '\\t')\n",
    "    print()"
   ]
  },
  {
   "cell_type": "markdown",
   "metadata": {},
   "source": [
    "# Кодирование ДНК"
   ]
  },
  {
   "cell_type": "code",
   "execution_count": 129,
   "metadata": {},
   "outputs": [
    {
     "name": "stdout",
     "output_type": "stream",
     "text": [
      "aaabbss\n",
      "a3b2s2"
     ]
    }
   ],
   "source": [
    "dnk = input()\n",
    "cnt = 1\n",
    "code = []\n",
    "for i in range(len(dnk)):\n",
    "    if i != len(dnk) - 1:\n",
    "        if dnk[i] == dnk [i + 1]:\n",
    "            cnt += 1\n",
    "        else:\n",
    "#             code.extend((dnk[i],cnt))\n",
    "            print(dnk[i] + str(cnt), end = '')\n",
    "            cnt = 1\n",
    "    else:\n",
    "        print(dnk[i] + str(cnt), end = '')\n",
    "#         code.extend((dnk[i],cnt))\n",
    "# print(''.join(str(el) for el in code))"
   ]
  },
  {
   "cell_type": "markdown",
   "metadata": {},
   "source": [
    "# Сумма соседних чисел"
   ]
  },
  {
   "cell_type": "code",
   "execution_count": 166,
   "metadata": {},
   "outputs": [
    {
     "name": "stdout",
     "output_type": "stream",
     "text": [
      "100 200 300 100 300 200\n",
      "400 400 300 600 300 400 "
     ]
    }
   ],
   "source": [
    "a = [int(i) for i in input().split()]\n",
    "nbr = []\n",
    "if len(a) == 1:\n",
    "    nbr.append(a[0])\n",
    "else:\n",
    "    for i in range(len(a)):\n",
    "        if i == len(a) - 1:\n",
    "            nbr.append(a[i - 1] + a[0])\n",
    "        else:\n",
    "            nbr.append(a[i + 1] + a[i - 1])\n",
    "for i in nbr:\n",
    "    print (i, end = ' ')"
   ]
  },
  {
   "cell_type": "markdown",
   "metadata": {},
   "source": [
    "# Повторяющиеся числа"
   ]
  },
  {
   "cell_type": "code",
   "execution_count": 170,
   "metadata": {},
   "outputs": [
    {
     "name": "stdout",
     "output_type": "stream",
     "text": [
      "1 1 1 1 2 2\n",
      "1 2 "
     ]
    }
   ],
   "source": [
    "a = [int(i) for i in input().split()]\n",
    "a.sort()\n",
    "res = []\n",
    "for i in range(len(a) - 1):\n",
    "    if a[i] == a[i + 1]:\n",
    "        res.append(a[i])\n",
    "res = list(set(res))        \n",
    "for i in res:\n",
    "    print (i, end = ' ')"
   ]
  },
  {
   "cell_type": "code",
   "execution_count": 171,
   "metadata": {},
   "outputs": [
    {
     "name": "stdout",
     "output_type": "stream",
     "text": [
      "1 1 1 2 2 3 4 5 3\n",
      "1 2 3\n"
     ]
    }
   ],
   "source": [
    "a = [int(i) for i in input().split()]\n",
    "b = []\n",
    "a.sort()\n",
    "for i in a:\n",
    "    if a.count(i) > 1 and i not in b:\n",
    "        b.append(i)\n",
    "print(*b)"
   ]
  },
  {
   "cell_type": "markdown",
   "metadata": {},
   "source": [
    "# Сапер"
   ]
  },
  {
   "cell_type": "code",
   "execution_count": 175,
   "metadata": {},
   "outputs": [
    {
     "name": "stdout",
     "output_type": "stream",
     "text": [
      "5 4 3\n",
      "1 1\n",
      "2 2\n",
      "3 4\n",
      "*21.\n",
      "2*21\n",
      "112*\n",
      "..11\n",
      "....\n"
     ]
    }
   ],
   "source": [
    "n, m, k = (int(i) for i in input().split())\n",
    "a = [[0 for j in range(m)] for i in range(n)]\n",
    "for i in range(k):\n",
    "    row, col = (int(i) - 1 for i in input().split())\n",
    "    a[row][col] = -1\n",
    "for i in range(n):\n",
    "    for j in range(m):\n",
    "        if a[i][j] == 0:\n",
    "            for di in range(-1, 2):\n",
    "                for dj in range(-1, 2):\n",
    "                    ai = i + di\n",
    "                    aj = j + dj\n",
    "                    if 0 <= ai < n and 0 <= aj < m and a[ai][aj] == -1:\n",
    "                        a[i][j] += 1\n",
    "for i in range(n):\n",
    "    for j in range(m):\n",
    "        if a[i][j] == -1:\n",
    "            print('*', end='')\n",
    "        elif a[i][j] == 0:\n",
    "            print('.', end='')\n",
    "        else:\n",
    "            print(a[i][j], end='')\n",
    "    print()"
   ]
  },
  {
   "cell_type": "markdown",
   "metadata": {},
   "source": [
    "# Нулевая сумма"
   ]
  },
  {
   "cell_type": "code",
   "execution_count": 181,
   "metadata": {
    "collapsed": true
   },
   "outputs": [
    {
     "name": "stdout",
     "output_type": "stream",
     "text": [
      "1\n",
      "-3\n",
      "5\n",
      "-4\n",
      "10\n",
      "-9\n",
      "232\n"
     ]
    }
   ],
   "source": [
    "a = int(input())\n",
    "sum = a\n",
    "sqr = 0\n",
    "res = []\n",
    "res.append(a)\n",
    "while(sum != 0):\n",
    "    i = int(input())\n",
    "    sum += i\n",
    "    res.append(i)\n",
    "for i in res:\n",
    "    sqr += i*i\n",
    "print(sqr)"
   ]
  },
  {
   "cell_type": "markdown",
   "metadata": {},
   "source": [
    "# Число повторяется столько раз, чему равно"
   ]
  },
  {
   "cell_type": "code",
   "execution_count": 3,
   "metadata": {},
   "outputs": [
    {
     "name": "stdout",
     "output_type": "stream",
     "text": [
      "7\n",
      "1 2 2 3 3 3 4 "
     ]
    }
   ],
   "source": [
    "n = int(input())\n",
    "a = 1\n",
    "res = []\n",
    "while(n != len(res)):\n",
    "    for i in range(a):\n",
    "        res.append(a)\n",
    "        if n == len(res):\n",
    "            break\n",
    "    a += 1\n",
    "for j in res:\n",
    "    print(j,end = ' ')"
   ]
  },
  {
   "cell_type": "markdown",
   "metadata": {},
   "source": [
    "# Нахождение числа в списке"
   ]
  },
  {
   "cell_type": "code",
   "execution_count": 9,
   "metadata": {},
   "outputs": [
    {
     "name": "stdout",
     "output_type": "stream",
     "text": [
      "1\n",
      "1\n",
      "0 "
     ]
    }
   ],
   "source": [
    "lst = [int(i) for i in input().split()]\n",
    "x = int(input())\n",
    "res = []\n",
    "for i in range(len(lst)):\n",
    "    if x == lst[i]:\n",
    "        res.append(i)\n",
    "if len(res) == 0:\n",
    "    print('Отсутствует')\n",
    "else:\n",
    "    for el in res:\n",
    "        print(el,end = ' ')"
   ]
  },
  {
   "cell_type": "markdown",
   "metadata": {},
   "source": [
    "# Сумма соседних чисел в матрице"
   ]
  },
  {
   "cell_type": "code",
   "execution_count": 18,
   "metadata": {},
   "outputs": [
    {
     "name": "stdout",
     "output_type": "stream",
     "text": [
      "1 2 3\n",
      "1 2 3\n",
      "1 2 3\n",
      "end\n",
      "7 8 9 \n",
      "7 8 9 \n",
      "7 8 9 \n"
     ]
    }
   ],
   "source": [
    "a = [[int(i) for i in input().split()]]\n",
    "b = input()\n",
    "while(b != 'end'):\n",
    "    a.append([int(i) for i in b.split()])\n",
    "    b = input()\n",
    "c = [[0 for j in range(len(a[i]))] for i in range(len(a))]\n",
    "for i in range(len(a)):\n",
    "    for j  in range(len(a[i])):\n",
    "        if (i == len(a) - 1) and (j == len(a[i]) - 1):\n",
    "            c[i][j] = a[i - 1][j] + a[0][j] + a[i][j-1] + a[i][0]\n",
    "        elif (i == len(a) - 1) and (j != len(a[i]) - 1):\n",
    "            c[i][j] = a[i - 1][j] + a[0][j] + a[i][j-1] + a[i][j+1]\n",
    "        elif (i != len(a) - 1) and (j == len(a[i]) - 1):\n",
    "            c[i][j] = a[i - 1][j] + a[i+1][j] + a[i][j-1] + a[i][0]\n",
    "        else:\n",
    "            c[i][j] = a[i - 1][j] + a[i+1][j] + a[i][j-1] + a[i][j+1]\n",
    "for row in range(len(c)):\n",
    "    for col in range(len(c[row])):\n",
    "        print(c[row][col], end = ' ')\n",
    "    print()"
   ]
  },
  {
   "cell_type": "markdown",
   "metadata": {},
   "source": [
    "# Спираль"
   ]
  },
  {
   "cell_type": "code",
   "execution_count": 127,
   "metadata": {
    "collapsed": true
   },
   "outputs": [
    {
     "name": "stdout",
     "output_type": "stream",
     "text": [
      "5\n"
     ]
    },
    {
     "ename": "IndexError",
     "evalue": "list assignment index out of range",
     "output_type": "error",
     "traceback": [
      "\u001b[0;31m---------------------------------------------------------------------------\u001b[0m",
      "\u001b[0;31mIndexError\u001b[0m                                Traceback (most recent call last)",
      "\u001b[0;32m<ipython-input-127-c06866dc7d67>\u001b[0m in \u001b[0;36m<module>\u001b[0;34m\u001b[0m\n\u001b[1;32m      7\u001b[0m             \u001b[0;32mfor\u001b[0m \u001b[0maj\u001b[0m \u001b[0;32min\u001b[0m \u001b[0mrange\u001b[0m\u001b[0;34m(\u001b[0m\u001b[0mn\u001b[0m \u001b[0;34m-\u001b[0m \u001b[0;36m1\u001b[0m\u001b[0;34m)\u001b[0m\u001b[0;34m:\u001b[0m\u001b[0;34m\u001b[0m\u001b[0;34m\u001b[0m\u001b[0m\n\u001b[1;32m      8\u001b[0m                 \u001b[0ma\u001b[0m\u001b[0;34m[\u001b[0m\u001b[0maj\u001b[0m\u001b[0;34m]\u001b[0m\u001b[0;34m[\u001b[0m\u001b[0mn\u001b[0m \u001b[0;34m-\u001b[0m \u001b[0;36m1\u001b[0m\u001b[0;34m]\u001b[0m \u001b[0;34m=\u001b[0m \u001b[0mn\u001b[0m \u001b[0;34m+\u001b[0m \u001b[0maj\u001b[0m\u001b[0;34m\u001b[0m\u001b[0;34m\u001b[0m\u001b[0m\n\u001b[0;32m----> 9\u001b[0;31m                 \u001b[0ma\u001b[0m\u001b[0;34m[\u001b[0m\u001b[0mn\u001b[0m \u001b[0;34m-\u001b[0m \u001b[0;36m1\u001b[0m\u001b[0;34m]\u001b[0m\u001b[0;34m[\u001b[0m\u001b[0mn\u001b[0m \u001b[0;34m-\u001b[0m \u001b[0maj\u001b[0m\u001b[0;34m]\u001b[0m \u001b[0;34m=\u001b[0m \u001b[0ma\u001b[0m\u001b[0;34m[\u001b[0m\u001b[0maj\u001b[0m\u001b[0;34m]\u001b[0m\u001b[0;34m[\u001b[0m\u001b[0mn\u001b[0m \u001b[0;34m-\u001b[0m \u001b[0;36m1\u001b[0m\u001b[0;34m]\u001b[0m \u001b[0;34m+\u001b[0m \u001b[0mn\u001b[0m \u001b[0;34m-\u001b[0m \u001b[0;36m1\u001b[0m\u001b[0;34m\u001b[0m\u001b[0;34m\u001b[0m\u001b[0m\n\u001b[0m\u001b[1;32m     10\u001b[0m                 \u001b[0ma\u001b[0m\u001b[0;34m[\u001b[0m\u001b[0mn\u001b[0m \u001b[0;34m-\u001b[0m \u001b[0maj\u001b[0m\u001b[0;34m]\u001b[0m\u001b[0;34m[\u001b[0m\u001b[0;36m0\u001b[0m\u001b[0;34m]\u001b[0m \u001b[0;34m=\u001b[0m \u001b[0ma\u001b[0m\u001b[0;34m[\u001b[0m\u001b[0mn\u001b[0m \u001b[0;34m-\u001b[0m \u001b[0;36m1\u001b[0m\u001b[0;34m]\u001b[0m\u001b[0;34m[\u001b[0m\u001b[0mn\u001b[0m \u001b[0;34m-\u001b[0m \u001b[0maj\u001b[0m\u001b[0;34m]\u001b[0m \u001b[0;34m+\u001b[0m \u001b[0mn\u001b[0m \u001b[0;34m-\u001b[0m \u001b[0;36m1\u001b[0m\u001b[0;34m\u001b[0m\u001b[0;34m\u001b[0m\u001b[0m\n\u001b[1;32m     11\u001b[0m \u001b[0;31m#                 a[1][ai] = a[n - 1 - ai][0] + n - 1\u001b[0m\u001b[0;34m\u001b[0m\u001b[0;34m\u001b[0m\u001b[0;34m\u001b[0m\u001b[0m\n",
      "\u001b[0;31mIndexError\u001b[0m: list assignment index out of range"
     ]
    }
   ],
   "source": [
    "n = int(input())\n",
    "a = [[0 for j in range(n)] for i in range(n)]\n",
    "for i in range(n):\n",
    "    for j in range(n):\n",
    "        a[i][j] = j + 1\n",
    "        for ai in range(1,n - 1, 2):\n",
    "            for aj in range(n - 1):\n",
    "                a[aj][n - 1] = n + aj\n",
    "                a[n - 1][n - aj] = a[aj][n - 1] + n - 1\n",
    "                a[n - aj][0] = a[n - 1][n - aj] + n - 1\n",
    "#                 a[1][ai] = a[n - 1 - ai][0] + n - 1\n",
    "#                 a[aj - 1][n - 2] = a[1][ai] + n - 1"
   ]
  },
  {
   "cell_type": "code",
   "execution_count": 126,
   "metadata": {},
   "outputs": [
    {
     "data": {
      "text/plain": [
       "[[1, 2, 3, 4, 5],\n",
       " [1, 2, 3, 4, 6],\n",
       " [16, 2, 3, 4, 5],\n",
       " [1, 2, 3, 4, 8],\n",
       " [14, 2, 12, 4, 10]]"
      ]
     },
     "execution_count": 126,
     "metadata": {},
     "output_type": "execute_result"
    }
   ],
   "source": [
    "a"
   ]
  },
  {
   "cell_type": "code",
   "execution_count": 164,
   "metadata": {},
   "outputs": [
    {
     "name": "stdout",
     "output_type": "stream",
     "text": [
      "5\n"
     ]
    }
   ],
   "source": [
    "n = int(input())\n",
    "a = [[0 for j in range(n)] for i in range(n)]\n",
    "for i in range(n):\n",
    "    for j in range(n):\n",
    "        a[i][j] = j + 1\n",
    "        for el in range(n):\n",
    "            a[el][n - 1] = n + el\n",
    "            a[n - 1][n - 1 - el] = a[el][n - 1] + n - 1\n",
    "            a[-(el + 1)][0] = a[n - 1][n - 1 - el] + n - 1\n",
    "            a[1][el - 1] = a[n - 1 - el][0] + n - 2"
   ]
  },
  {
   "cell_type": "code",
   "execution_count": 165,
   "metadata": {},
   "outputs": [
    {
     "data": {
      "text/plain": [
       "[[17, 2, 3, 4, 5],\n",
       " [16, 18, 19, 20, 6],\n",
       " [15, 2, 3, 4, 7],\n",
       " [14, 2, 3, 4, 8],\n",
       " [13, 12, 11, 10, 9]]"
      ]
     },
     "execution_count": 165,
     "metadata": {},
     "output_type": "execute_result"
    }
   ],
   "source": [
    "a"
   ]
  },
  {
   "cell_type": "markdown",
   "metadata": {},
   "source": [
    "# Функция f(x)"
   ]
  },
  {
   "cell_type": "code",
   "execution_count": 168,
   "metadata": {},
   "outputs": [
    {
     "name": "stdout",
     "output_type": "stream",
     "text": [
      "1\n"
     ]
    }
   ],
   "source": [
    "def f(x):\n",
    "    if (x <= -2):\n",
    "        return(1 - (x + 2)**2)\n",
    "    elif (-2 < x <= 2):\n",
    "        return(-x / 2)\n",
    "    else:\n",
    "        return((x - 2)**2 + 1)\n",
    "    \n",
    "print(f(-2))"
   ]
  },
  {
   "cell_type": "markdown",
   "metadata": {},
   "source": [
    "# Функцию modify_list(l)"
   ]
  },
  {
   "cell_type": "code",
   "execution_count": 32,
   "metadata": {},
   "outputs": [],
   "source": [
    "def modify_list(l):\n",
    "    l[:] = [int(x / 2) for x in l if x % 2 == 0]\n",
    "    \n",
    "            "
   ]
  },
  {
   "cell_type": "code",
   "execution_count": 33,
   "metadata": {},
   "outputs": [],
   "source": [
    "lst = [1, 2, 3, 4, 5, 6]"
   ]
  },
  {
   "cell_type": "code",
   "execution_count": 34,
   "metadata": {},
   "outputs": [
    {
     "name": "stdout",
     "output_type": "stream",
     "text": [
      "None\n"
     ]
    }
   ],
   "source": [
    "print(modify_list(lst))"
   ]
  },
  {
   "cell_type": "code",
   "execution_count": 35,
   "metadata": {},
   "outputs": [
    {
     "data": {
      "text/plain": [
       "[1, 2, 3]"
      ]
     },
     "execution_count": 35,
     "metadata": {},
     "output_type": "execute_result"
    }
   ],
   "source": [
    "lst"
   ]
  },
  {
   "cell_type": "markdown",
   "metadata": {},
   "source": [
    "# Функция словарь"
   ]
  },
  {
   "cell_type": "code",
   "execution_count": 92,
   "metadata": {},
   "outputs": [],
   "source": [
    "def update_dictionary(d, key, value):\n",
    "    \n",
    "    if key in d:\n",
    "        d[key].append(value)\n",
    "    elif 2*key in d:\n",
    "        d[2*key].append(value)\n",
    "    else:\n",
    "        d[2*key] = [value]"
   ]
  },
  {
   "cell_type": "code",
   "execution_count": 93,
   "metadata": {},
   "outputs": [
    {
     "name": "stdout",
     "output_type": "stream",
     "text": [
      "None\n",
      "{2: [-1]}\n",
      "{2: [-1, -2]}\n",
      "{2: [-1, -2, -3]}\n"
     ]
    }
   ],
   "source": [
    "d = {}\n",
    "print(update_dictionary(d, 1, -1))  # None\n",
    "print(d)                            # {2: [-1]}\n",
    "update_dictionary(d, 2, -2)\n",
    "print(d)                            # {2: [-1, -2]}\n",
    "update_dictionary(d, 1, -3)\n",
    "print(d)                            # {2: [-1, -2, -3]}"
   ]
  },
  {
   "cell_type": "markdown",
   "metadata": {},
   "source": [
    "# Слово количество"
   ]
  },
  {
   "cell_type": "code",
   "execution_count": 114,
   "metadata": {},
   "outputs": [],
   "source": [
    "lst = [i for i in input().split()]\n",
    "d = {}\n",
    "for i in lst:\n",
    "    key = i.lower()\n",
    "    if key in d:\n",
    "        d[key] = d[key] + 1\n",
    "    else:\n",
    "        d[key] = 1\n",
    "for key in d:\n",
    "    print(key, d[key])"
   ]
  },
  {
   "cell_type": "code",
   "execution_count": null,
   "metadata": {},
   "outputs": [],
   "source": [
    "s = input().lower().split()\n",
    "for i in set(s):\n",
    "    print(i, s.count(i))"
   ]
  },
  {
   "cell_type": "markdown",
   "metadata": {},
   "source": [
    "# f(x)"
   ]
  },
  {
   "cell_type": "code",
   "execution_count": 122,
   "metadata": {},
   "outputs": [
    {
     "name": "stdout",
     "output_type": "stream",
     "text": [
      "5\n",
      "1\n",
      "2\n",
      "3\n",
      "4\n",
      "5\n"
     ]
    }
   ],
   "source": [
    "n = int(input())\n",
    "i = 0\n",
    "while(n != i):\n",
    "    x = int(input())\n",
    "    i += 1"
   ]
  },
  {
   "cell_type": "markdown",
   "metadata": {},
   "source": [
    "# a3b4c2e10b1"
   ]
  },
  {
   "cell_type": "code",
   "execution_count": 221,
   "metadata": {},
   "outputs": [
    {
     "name": "stdout",
     "output_type": "stream",
     "text": [
      "BBBBBBBBBBBBBBBBBBBBoooooooooooooooooooZZZZZaaaNNNNNNNNNNNNNNUUUUUUUUUUBBBBBBBBBBBBBBBBJJJJJJJJJJJgggwwwLLLLLLLLLLLLLLLLLLLJJJJJJJJTTTTTTTTTTPPPPPPPPPPPPPPPPPPhhhhhhhhhhhhhhhppppppppppppEEEEEEEEEECCCCCCCaaaaaaaaaaaaaDDDDDDDDDDDDDDJJJJJJJJJJJJJJJJJfUUUUUUGGGGGGGqqqqqqqqqqqqqqqqqqqqBBBBBBBBBBBBBBBBBBBBSSSSSSSSSSSSSSSSWWWWWWWWSSSSSSSSSSSSSSSSSDDDDDDDDDDDDDDDDMMMMrrXXXXXXXXXXXXXXXXXXXyyWWWaaaaVVVDDDDDDDrrrrrrrrrrrrrrrrrrrppppppppppppppkkkkkkkkkJJJJJJJooooooooooooooooooVVVVVVVVVVVVVVVVppppppppppppppZZZZZZZZZZZZ"
     ]
    }
   ],
   "source": [
    "import re\n",
    "\n",
    "res = open('myfile','')\n",
    "with open ('dataset_3363_2.txt','r') as f:\n",
    "    a = f.readline()\n",
    "    lst = re.findall('\\w\\d*', a)\n",
    "    for i in lst:\n",
    "        word = i[0]\n",
    "        num = int(i[1:])\n",
    "        print(*[word for i in range(num)],sep = '', end='')"
   ]
  },
  {
   "cell_type": "markdown",
   "metadata": {},
   "source": [
    "# abc a bCd bC AbC BC BCD bcd ABC"
   ]
  },
  {
   "cell_type": "code",
   "execution_count": 25,
   "metadata": {},
   "outputs": [],
   "source": [
    "a = '''Yadbcc TdcZbYcY YcZ ppc YcZ Yadbcc YcZ TZpcT cTZTbd c YcZ aX dUXbY dTpdp XcZ UbTT ppc cT Yadbcc dUXbY Td Yadbcc daY abdcdTb ppc badX XdaXUT XdYdaYXa pTXc XbYXXZ Yadbcc\n",
    "pdcc T T pdcc pdcc UbddTpUX T dbUdbbU ZpZcdUbp UbddTpUX pdcc T c cdUcYda pdcc pdcc T cUbTTcTab U dbUdbbU pdcc aXXUap cbp UbddTpUX dTZTTT cUbTTcTab YpXpYc Ybpab cb bYdadabY cbZb cZdcpa T aaZZZdb T pUYd Uaca T T dZdppcpb pdcc bY b UZYccZdX TTXpb Zaa Tc pU aU cbp Uaca cUYcpdcad cdYYapX\n",
    "Xdcbb c c p paZa cUdUp c c paZa p p dpYacpT XZXaZaTXY Tcbd bdUa pbUa Z YXUdXpU paZa p abUd bdUa c ppZcUTd c cX ppZcUTd pcX aTdp cTUYpYdbd bcY p dcaUap c UTYYXZpa Z\n",
    "YUaaYZbUT UU ZbdTXadac X b XbXdd X ZbdTXadac YUdY Xcb apbYpTpT dUcZpZ Zc aZ ZTacUpU dbTTZbXTX XbXdd X YUdY bTXp dT ZTUd Y ZTUd ZTUd ZbdpX TZYU Y bZUX d ZTUd c XXdb Y X cXaYd aYY cXdXZp pZb XXdb dXYUUZca Xdp UUTXUTT\n",
    "UY UTZdTXdUZ dYZbdda TcXXXTZbd apaTXcXdp Yp dYZbdda ZacYp bTT TcbYXYXd TcUTaYXb UY paUaTUd ZbYbapbb UY UY ZacYp UY d ZXUbaZYTU UpX UY TcbYXYXd paUaTUd UY UpXUTbXZ Yp XUT UY ZZZZdUpc YTTaTXYcU XTZdcYccT\n",
    "bTa dXcddYpc dXcddYpc dXcddYpc YcbXppXUb apTUU Z ppUTY dZYaYbdU d pTaYTdU cdUpTZaUY bYYabcdYX Xbaa Z UXdTUbYbT d aXddddYp pbTZXYp U pbTZXYp pbTZXYp cdUpTZaUY ZTpXa ddcUTX ZTpXa UdpbZXUZ YZa XbU UcbYTYd XXbbYZ UcdTUc U XXaYaTbXX pbTZXYp pbTZXYp pbTZXYp aaUUc\n",
    "YYUUZUa baZb pZ Ucc cpXYcXd cpXYcXd T XXcZZYY YYpTpXb bUaTZdYX ZbTabaZZU pZ bUaTZdYX bXbdcYUa TYbUbZX cbcT bZZXb UXdbbZp pdUZ bZZXb bb bZZXb pZ cbcT bTYXbYXa XTYaa bZZXb dbpXpdTZY pdUZ bZdcpZYa XpTX dbpXpdTZY XZbXdap XdY baZb XpUY ZUpc ZUpc a\n",
    "'''"
   ]
  },
  {
   "cell_type": "code",
   "execution_count": 26,
   "metadata": {},
   "outputs": [
    {
     "name": "stdout",
     "output_type": "stream",
     "text": [
      "c 10\n"
     ]
    }
   ],
   "source": [
    "a = a.lower().split(' ')\n",
    "n = []\n",
    "d = {}\n",
    "for i in a:\n",
    "    count = 0\n",
    "    for j in range(len(a)):\n",
    "        if i == a[j]:\n",
    "            count += 1\n",
    "    d[i] = count\n",
    "maxValue = max(d.values())\n",
    "list_max = sorted([i for i in [key for key in d if d[key] == maxValue]])\n",
    "print(list_max[0], maxValue)"
   ]
  },
  {
   "cell_type": "markdown",
   "metadata": {},
   "source": [
    "# Запись средних оценок"
   ]
  },
  {
   "cell_type": "code",
   "execution_count": 179,
   "metadata": {},
   "outputs": [],
   "source": [
    "math, phys, rus, i = 0\n",
    "with open('myfile', 'w') as res:\n",
    "    with open('dataset_3363_4-5.txt') as f:\n",
    "        for stud in f:\n",
    "            lst = stud.strip().split(';')\n",
    "            mean = (int(lst[1]) + int(lst[2]) + int(lst[3])) / 3\n",
    "            res.write(str(mean) + '\\n')\n",
    "            math += int(lst[1])\n",
    "            phys += int(lst[2])\n",
    "            rus += int(lst[3])\n",
    "            i += 1\n",
    "        res.write(str(math/i) + ' ' + str(phys/i) + ' ' + str(rus/i))"
   ]
  },
  {
   "cell_type": "markdown",
   "metadata": {},
   "source": [
    "# 3.6 request"
   ]
  },
  {
   "cell_type": "code",
   "execution_count": null,
   "metadata": {},
   "outputs": [],
   "source": [
    "import requests as r\n",
    "\n",
    "f = open('/etc/http_proxy', 'r') \n",
    "proxie = f.readline().strip()\n",
    "f.close()\n",
    "\n",
    "with open ('dataset_3378_2-2.txt','r') as stp:\n",
    "    url = stp.readline().strip()\n",
    "    patterns = r.get(url, proxies ={'https':proxie})\n",
    "    num = len(patterns.text.splitlines())"
   ]
  },
  {
   "cell_type": "code",
   "execution_count": null,
   "metadata": {},
   "outputs": [],
   "source": [
    "import requests\n",
    "\n",
    "f = open('/etc/http_proxy', 'r') \n",
    "proxie = f.readline().strip()\n",
    "f.close()\n",
    "url = 'https://stepic.org/media/attachments/course67/3.6.3/699991.txt'\n",
    "r = requests.get(url, proxies ={'https':proxie})\n",
    "while(True):\n",
    "    if r.status_code == 200:\n",
    "        text = r.text\n",
    "        url = 'https://stepic.org/media/attachments/course67/3.6.3/' + text\n",
    "        r = requests.get(url, proxies ={'https':proxie})\n",
    "    else:\n",
    "        print(text)\n",
    "        break"
   ]
  },
  {
   "cell_type": "markdown",
   "metadata": {},
   "source": [
    "# 3.7 футбольные команды"
   ]
  },
  {
   "cell_type": "code",
   "execution_count": 6,
   "metadata": {},
   "outputs": [
    {
     "name": "stdout",
     "output_type": "stream",
     "text": [
      "2\n",
      "Зенит;3;Спартак;1\n",
      "Зенит;3;Спартак;1\n",
      "Зенит:2 2 0 0 6 \n",
      "Спартак:2 0 0 2 0 \n"
     ]
    }
   ],
   "source": [
    "n = int(input())\n",
    "teams = dict()\n",
    "\n",
    "#0 всего игр - 1 побед - 2 ничьих - 3 поражений - 4 всего очков\n",
    "for i in range(n):\n",
    "    team1, score1, team2, score2 = input().split(';')\n",
    "\n",
    "    if team1 not in teams.keys():\n",
    "        teams[team1] = [0, 0, 0, 0, 0]\n",
    "    if team2 not in teams.keys():\n",
    "        teams[team2] = [0, 0, 0, 0, 0]\n",
    "\n",
    "    teams[team1][0] += 1\n",
    "    teams[team2][0] += 1\n",
    "\n",
    "    if score1 > score2:\n",
    "        teams[team1][1] += 1\n",
    "        teams[team1][4] += 3\n",
    "        teams[team2][3] += 1\n",
    "    elif score1 < score2:\n",
    "        teams[team2][1] += 1\n",
    "        teams[team2][4] += 3\n",
    "        teams[team1][3] += 1\n",
    "    elif score1 == score2:\n",
    "        teams[team1][2] += 1\n",
    "        teams[team1][4] += 1\n",
    "        teams[team2][2] += 1\n",
    "        teams[team2][4] += 1\n",
    "\n",
    "for key, value in teams.items():\n",
    "    print(key, end=':')\n",
    "\n",
    "    for v in value:\n",
    "        print(v, end=' ')\n",
    "\n",
    "    print()"
   ]
  },
  {
   "cell_type": "markdown",
   "metadata": {},
   "source": [
    "# Шифр"
   ]
  },
  {
   "cell_type": "code",
   "execution_count": 57,
   "metadata": {},
   "outputs": [
    {
     "name": "stdout",
     "output_type": "stream",
     "text": [
      "abcd\n",
      "*d%#\n",
      "abacabadaba\n",
      "#*%*d*%\n"
     ]
    }
   ],
   "source": [
    "a = [i for i in input()]\n",
    "b = [i for i in input()]\n",
    "to = {}\n",
    "do = {}\n",
    "for i in range(len(a)):\n",
    "    to[a[i]] = b[i]\n",
    "    do[b[i]] = a[i]\n",
    "first_row = [i for i in input()]\n",
    "for i in range(len(first_row)):\n",
    "    if first_row[i] in to:\n",
    "        first_row[i] = to[first_row[i]]\n",
    "second_row = [i for i in input()]\n",
    "for j in range(len(second_row)):\n",
    "    if second_row[j] in do:\n",
    "        second_row[j] = do[second_row[j]]\n",
    "print ', '.join(first_row)\n",
    "print ', '.join(second_row)    "
   ]
  },
  {
   "cell_type": "code",
   "execution_count": 59,
   "metadata": {},
   "outputs": [
    {
     "data": {
      "text/plain": [
       "['d', 'a', 'c', 'a', 'b', 'a', 'c']"
      ]
     },
     "execution_count": 59,
     "metadata": {},
     "output_type": "execute_result"
    }
   ],
   "source": [
    "second_row"
   ]
  },
  {
   "cell_type": "code",
   "execution_count": 35,
   "metadata": {},
   "outputs": [
    {
     "data": {
      "text/plain": [
       "['c', 'z', 'x']"
      ]
     },
     "execution_count": 35,
     "metadata": {},
     "output_type": "execute_result"
    }
   ],
   "source": [
    "b"
   ]
  },
  {
   "cell_type": "code",
   "execution_count": null,
   "metadata": {},
   "outputs": [],
   "source": []
  },
  {
   "cell_type": "markdown",
   "metadata": {},
   "source": [
    "# проверка орфографии"
   ]
  },
  {
   "cell_type": "code",
   "execution_count": null,
   "metadata": {},
   "outputs": [],
   "source": [
    "pattern = [raw_input().lower() for i in range(int(input()))]\n",
    "lines = [raw_input().split(' ') for i in range(int(input()))]\n",
    "res = list(set([word for line in lines for word in line]))\n",
    "for i in pattern:\n",
    "    [res.remove(word) for word in res if word.lower() == i.lower()]\n",
    "for output in res:\n",
    "    print(output)"
   ]
  },
  {
   "cell_type": "markdown",
   "metadata": {},
   "source": [
    "# черепаха"
   ]
  },
  {
   "cell_type": "code",
   "execution_count": null,
   "metadata": {},
   "outputs": [],
   "source": [
    "n = int(input())\n",
    "move = []\n",
    "\n",
    "while(n != 0):\n",
    "    up = 0\n",
    "    right = 0\n",
    "    b = raw_input()\n",
    "    move.append([i for i in b.split(' ')])\n",
    "    for way, step in move:\n",
    "        if way == 'север':\n",
    "            up += int(step)\n",
    "        elif way == 'юг':\n",
    "            up -= int(step)\n",
    "        elif way == 'запад':\n",
    "            right -= int(step)\n",
    "        else:\n",
    "            right += int(step)\n",
    "    n -= 1\n",
    "print(right, up)"
   ]
  },
  {
   "cell_type": "code",
   "execution_count": null,
   "metadata": {},
   "outputs": [],
   "source": [
    "dict = {'север': 0, 'юг': 0, 'запад': 0, 'восток': 0}\n",
    "\n",
    "for _ in range(int(input())):\n",
    "    key, value = input().split()\n",
    "    dict[key] += int(value)\n",
    "\n",
    "print(dict['восток'] - dict['запад'], dict['север'] - dict['юг'])"
   ]
  },
  {
   "cell_type": "markdown",
   "metadata": {},
   "source": [
    "# рост школьников"
   ]
  },
  {
   "cell_type": "code",
   "execution_count": null,
   "metadata": {},
   "outputs": [],
   "source": [
    "school_info = pd.read_csv('dataset_3380_5-3.txt',sep = '\\t', names = ['class','name','height'])\n",
    "school_info = school_info.groupby(['class'], as_index = False).mean()\n",
    "school_info.to_csv('111.csv', index = False, sep = ' ')"
   ]
  }
 ],
 "metadata": {
  "kernelspec": {
   "display_name": "Python 3",
   "language": "python",
   "name": "python3"
  },
  "language_info": {
   "codemirror_mode": {
    "name": "ipython",
    "version": 3
   },
   "file_extension": ".py",
   "mimetype": "text/x-python",
   "name": "python",
   "nbconvert_exporter": "python",
   "pygments_lexer": "ipython3",
   "version": "3.7.1"
  }
 },
 "nbformat": 4,
 "nbformat_minor": 2
}
