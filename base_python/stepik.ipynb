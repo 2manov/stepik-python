{
 "cells": [
  {
   "cell_type": "markdown",
   "metadata": {},
   "source": [
    "# Таблица умножения"
   ]
  },
  {
   "cell_type": "code",
   "execution_count": 90,
   "metadata": {},
   "outputs": [
    {
     "name": "stdout",
     "output_type": "stream",
     "text": [
      "acggtgttat\n",
      "40.0\n"
     ]
    }
   ],
   "source": [
    "a = int(input())\n",
    "b = int(input())\n",
    "c = int(input())\n",
    "d = int(input())\n",
    "print(' ',end = '\\t')\n",
    "for l in range(c, d + 1):\n",
    "    print(l, end = '\\t')\n",
    "print()\n",
    "for i in range(a, b + 1):\n",
    "    print(i, end = '\\t')\n",
    "    for j in range(c, d + 1):\n",
    "        print(i * j, end = '\\t')\n",
    "    print()"
   ]
  },
  {
   "cell_type": "markdown",
   "metadata": {},
   "source": [
    "# Кодирование ДНК"
   ]
  },
  {
   "cell_type": "code",
   "execution_count": 129,
   "metadata": {},
   "outputs": [
    {
     "name": "stdout",
     "output_type": "stream",
     "text": [
      "aaabbss\n",
      "a3b2s2"
     ]
    }
   ],
   "source": [
    "dnk = input()\n",
    "cnt = 1\n",
    "code = []\n",
    "for i in range(len(dnk)):\n",
    "    if i != len(dnk) - 1:\n",
    "        if dnk[i] == dnk [i + 1]:\n",
    "            cnt += 1\n",
    "        else:\n",
    "#             code.extend((dnk[i],cnt))\n",
    "            print(dnk[i] + str(cnt), end = '')\n",
    "            cnt = 1\n",
    "    else:\n",
    "        print(dnk[i] + str(cnt), end = '')\n",
    "#         code.extend((dnk[i],cnt))\n",
    "# print(''.join(str(el) for el in code))"
   ]
  },
  {
   "cell_type": "markdown",
   "metadata": {},
   "source": [
    "# Сумма соседних чисел"
   ]
  },
  {
   "cell_type": "code",
   "execution_count": 166,
   "metadata": {},
   "outputs": [
    {
     "name": "stdout",
     "output_type": "stream",
     "text": [
      "100 200 300 100 300 200\n",
      "400 400 300 600 300 400 "
     ]
    }
   ],
   "source": [
    "a = [int(i) for i in input().split()]\n",
    "nbr = []\n",
    "if len(a) == 1:\n",
    "    nbr.append(a[0])\n",
    "else:\n",
    "    for i in range(len(a)):\n",
    "        if i == len(a) - 1:\n",
    "            nbr.append(a[i - 1] + a[0])\n",
    "        else:\n",
    "            nbr.append(a[i + 1] + a[i - 1])\n",
    "for i in nbr:\n",
    "    print (i, end = ' ')"
   ]
  },
  {
   "cell_type": "markdown",
   "metadata": {},
   "source": [
    "# Повторяющиеся числа"
   ]
  },
  {
   "cell_type": "code",
   "execution_count": 170,
   "metadata": {},
   "outputs": [
    {
     "name": "stdout",
     "output_type": "stream",
     "text": [
      "1 1 1 1 2 2\n",
      "1 2 "
     ]
    }
   ],
   "source": [
    "a = [int(i) for i in input().split()]\n",
    "a.sort()\n",
    "res = []\n",
    "for i in range(len(a) - 1):\n",
    "    if a[i] == a[i + 1]:\n",
    "        res.append(a[i])\n",
    "res = list(set(res))        \n",
    "for i in res:\n",
    "    print (i, end = ' ')"
   ]
  },
  {
   "cell_type": "code",
   "execution_count": 171,
   "metadata": {},
   "outputs": [
    {
     "name": "stdout",
     "output_type": "stream",
     "text": [
      "1 1 1 2 2 3 4 5 3\n",
      "1 2 3\n"
     ]
    }
   ],
   "source": [
    "a = [int(i) for i in input().split()]\n",
    "b = []\n",
    "a.sort()\n",
    "for i in a:\n",
    "    if a.count(i) > 1 and i not in b:\n",
    "        b.append(i)\n",
    "print(*b)"
   ]
  },
  {
   "cell_type": "markdown",
   "metadata": {},
   "source": [
    "# Сапер"
   ]
  },
  {
   "cell_type": "code",
   "execution_count": 175,
   "metadata": {},
   "outputs": [
    {
     "name": "stdout",
     "output_type": "stream",
     "text": [
      "5 4 3\n",
      "1 1\n",
      "2 2\n",
      "3 4\n",
      "*21.\n",
      "2*21\n",
      "112*\n",
      "..11\n",
      "....\n"
     ]
    }
   ],
   "source": [
    "n, m, k = (int(i) for i in input().split())\n",
    "a = [[0 for j in range(m)] for i in range(n)]\n",
    "for i in range(k):\n",
    "    row, col = (int(i) - 1 for i in input().split())\n",
    "    a[row][col] = -1\n",
    "for i in range(n):\n",
    "    for j in range(m):\n",
    "        if a[i][j] == 0:\n",
    "            for di in range(-1, 2):\n",
    "                for dj in range(-1, 2):\n",
    "                    ai = i + di\n",
    "                    aj = j + dj\n",
    "                    if 0 <= ai < n and 0 <= aj < m and a[ai][aj] == -1:\n",
    "                        a[i][j] += 1\n",
    "for i in range(n):\n",
    "    for j in range(m):\n",
    "        if a[i][j] == -1:\n",
    "            print('*', end='')\n",
    "        elif a[i][j] == 0:\n",
    "            print('.', end='')\n",
    "        else:\n",
    "            print(a[i][j], end='')\n",
    "    print()"
   ]
  },
  {
   "cell_type": "markdown",
   "metadata": {},
   "source": [
    "# Нулевая сумма"
   ]
  },
  {
   "cell_type": "code",
   "execution_count": 181,
   "metadata": {
    "collapsed": true
   },
   "outputs": [
    {
     "name": "stdout",
     "output_type": "stream",
     "text": [
      "1\n",
      "-3\n",
      "5\n",
      "-4\n",
      "10\n",
      "-9\n",
      "232\n"
     ]
    }
   ],
   "source": [
    "a = int(input())\n",
    "sum = a\n",
    "sqr = 0\n",
    "res = []\n",
    "res.append(a)\n",
    "while(sum != 0):\n",
    "    i = int(input())\n",
    "    sum += i\n",
    "    res.append(i)\n",
    "for i in res:\n",
    "    sqr += i*i\n",
    "print(sqr)"
   ]
  },
  {
   "cell_type": "markdown",
   "metadata": {},
   "source": [
    "# Число повторяется столько раз, чему равно"
   ]
  },
  {
   "cell_type": "code",
   "execution_count": 3,
   "metadata": {},
   "outputs": [
    {
     "name": "stdout",
     "output_type": "stream",
     "text": [
      "7\n",
      "1 2 2 3 3 3 4 "
     ]
    }
   ],
   "source": [
    "n = int(input())\n",
    "a = 1\n",
    "res = []\n",
    "while(n != len(res)):\n",
    "    for i in range(a):\n",
    "        res.append(a)\n",
    "        if n == len(res):\n",
    "            break\n",
    "    a += 1\n",
    "for j in res:\n",
    "    print(j,end = ' ')"
   ]
  },
  {
   "cell_type": "markdown",
   "metadata": {},
   "source": [
    "# Нахождение числа в списке"
   ]
  },
  {
   "cell_type": "code",
   "execution_count": 9,
   "metadata": {},
   "outputs": [
    {
     "name": "stdout",
     "output_type": "stream",
     "text": [
      "1\n",
      "1\n",
      "0 "
     ]
    }
   ],
   "source": [
    "lst = [int(i) for i in input().split()]\n",
    "x = int(input())\n",
    "res = []\n",
    "for i in range(len(lst)):\n",
    "    if x == lst[i]:\n",
    "        res.append(i)\n",
    "if len(res) == 0:\n",
    "    print('Отсутствует')\n",
    "else:\n",
    "    for el in res:\n",
    "        print(el,end = ' ')"
   ]
  },
  {
   "cell_type": "markdown",
   "metadata": {},
   "source": [
    "# Сумма соседних чисел в матрице"
   ]
  },
  {
   "cell_type": "code",
   "execution_count": 8,
   "metadata": {},
   "outputs": [
    {
     "name": "stdout",
     "output_type": "stream",
     "text": [
      "1 2 3 4\n",
      "1 2 3 4\n",
      "1 2 3 4\n",
      "end\n"
     ]
    },
    {
     "ename": "IndexError",
     "evalue": "list index out of range",
     "output_type": "error",
     "traceback": [
      "\u001b[0;31m---------------------------------------------------------------------------\u001b[0m",
      "\u001b[0;31mIndexError\u001b[0m                                Traceback (most recent call last)",
      "\u001b[0;32m<ipython-input-8-9a581e3e656d>\u001b[0m in \u001b[0;36m<module>\u001b[0;34m\u001b[0m\n\u001b[1;32m     14\u001b[0m \u001b[0;31m#             c[i][j] = a[i - 1][j] + a[i+1][j] + a[i][j-1] + a[i][0]\u001b[0m\u001b[0;34m\u001b[0m\u001b[0;34m\u001b[0m\u001b[0;34m\u001b[0m\u001b[0m\n\u001b[1;32m     15\u001b[0m \u001b[0;31m#         else:\u001b[0m\u001b[0;34m\u001b[0m\u001b[0;34m\u001b[0m\u001b[0;34m\u001b[0m\u001b[0m\n\u001b[0;32m---> 16\u001b[0;31m             \u001b[0mc\u001b[0m\u001b[0;34m[\u001b[0m\u001b[0mi\u001b[0m\u001b[0;34m]\u001b[0m\u001b[0;34m[\u001b[0m\u001b[0mj\u001b[0m\u001b[0;34m]\u001b[0m \u001b[0;34m=\u001b[0m \u001b[0ma\u001b[0m\u001b[0;34m[\u001b[0m\u001b[0mi\u001b[0m \u001b[0;34m-\u001b[0m \u001b[0;36m1\u001b[0m\u001b[0;34m]\u001b[0m\u001b[0;34m[\u001b[0m\u001b[0mj\u001b[0m\u001b[0;34m]\u001b[0m \u001b[0;34m+\u001b[0m \u001b[0ma\u001b[0m\u001b[0;34m[\u001b[0m\u001b[0mi\u001b[0m\u001b[0;34m+\u001b[0m\u001b[0;36m1\u001b[0m\u001b[0;34m]\u001b[0m\u001b[0;34m[\u001b[0m\u001b[0mj\u001b[0m\u001b[0;34m]\u001b[0m \u001b[0;34m+\u001b[0m \u001b[0ma\u001b[0m\u001b[0;34m[\u001b[0m\u001b[0mi\u001b[0m\u001b[0;34m]\u001b[0m\u001b[0;34m[\u001b[0m\u001b[0mj\u001b[0m\u001b[0;34m-\u001b[0m\u001b[0;36m1\u001b[0m\u001b[0;34m]\u001b[0m \u001b[0;34m+\u001b[0m \u001b[0ma\u001b[0m\u001b[0;34m[\u001b[0m\u001b[0mi\u001b[0m\u001b[0;34m]\u001b[0m\u001b[0;34m[\u001b[0m\u001b[0mj\u001b[0m\u001b[0;34m+\u001b[0m\u001b[0;36m1\u001b[0m\u001b[0;34m]\u001b[0m\u001b[0;34m\u001b[0m\u001b[0;34m\u001b[0m\u001b[0m\n\u001b[0m\u001b[1;32m     17\u001b[0m \u001b[0;32mfor\u001b[0m \u001b[0mrow\u001b[0m \u001b[0;32min\u001b[0m \u001b[0mrange\u001b[0m\u001b[0;34m(\u001b[0m\u001b[0mlen\u001b[0m\u001b[0;34m(\u001b[0m\u001b[0mc\u001b[0m\u001b[0;34m)\u001b[0m\u001b[0;34m)\u001b[0m\u001b[0;34m:\u001b[0m\u001b[0;34m\u001b[0m\u001b[0;34m\u001b[0m\u001b[0m\n\u001b[1;32m     18\u001b[0m     \u001b[0;32mfor\u001b[0m \u001b[0mcol\u001b[0m \u001b[0;32min\u001b[0m \u001b[0mrange\u001b[0m\u001b[0;34m(\u001b[0m\u001b[0mlen\u001b[0m\u001b[0;34m(\u001b[0m\u001b[0mc\u001b[0m\u001b[0;34m[\u001b[0m\u001b[0mrow\u001b[0m\u001b[0;34m]\u001b[0m\u001b[0;34m)\u001b[0m\u001b[0;34m)\u001b[0m\u001b[0;34m:\u001b[0m\u001b[0;34m\u001b[0m\u001b[0;34m\u001b[0m\u001b[0m\n",
      "\u001b[0;31mIndexError\u001b[0m: list index out of range"
     ]
    }
   ],
   "source": [
    "a = [[int(i) for i in input().split()]]\n",
    "b = input()\n",
    "while(b != 'end'):\n",
    "    a.append([int(i) for i in b.split()])\n",
    "    b = input()\n",
    "c = [[0 for j in range(len(a[i]))] for i in range(len(a))]\n",
    "for i in range(len(a)):\n",
    "    for j  in range(len(a[i])):\n",
    "        if (i == len(a) - 1) and (j == len(a[i]) - 1):\n",
    "            c[i][j] = a[i - 1][j] + a[0][j] + a[i][j-1] + a[i][0]\n",
    "        elif (i == len(a) - 1) and (j != len(a[i]) - 1):\n",
    "            c[i][j] = a[i - 1][j] + a[0][j] + a[i][j-1] + a[i][j+1]\n",
    "        elif (i != len(a) - 1) and (j == len(a[i]) - 1):\n",
    "            c[i][j] = a[i - 1][j] + a[i+1][j] + a[i][j-1] + a[i][0]\n",
    "        else:\n",
    "            c[i][j] = a[i - 1][j] + a[i+1][j] + a[i][j-1] + a[i][j+1]\n",
    "for row in range(len(c)):\n",
    "    for col in range(len(c[row])):\n",
    "        print(c[row][col], end = ' ')\n",
    "    print()"
   ]
  },
  {
   "cell_type": "markdown",
   "metadata": {},
   "source": [
    "# Спираль"
   ]
  },
  {
   "cell_type": "code",
   "execution_count": 18,
   "metadata": {},
   "outputs": [
    {
     "name": "stdout",
     "output_type": "stream",
     "text": [
      "5\n"
     ]
    }
   ],
   "source": [
    "n = int(input())\n",
    "matrix = [[0 for x in range(n)]for x in range(n)]\n",
    "for i in range(n):\n",
    "    for j in range(n):\n",
    "        matrix[i][j]"
   ]
  },
  {
   "cell_type": "code",
   "execution_count": 19,
   "metadata": {},
   "outputs": [
    {
     "data": {
      "text/plain": [
       "[[0, 0, 0, 0, 0],\n",
       " [0, 0, 0, 0, 0],\n",
       " [0, 0, 0, 0, 0],\n",
       " [0, 0, 0, 0, 0],\n",
       " [0, 0, 0, 0, 0]]"
      ]
     },
     "execution_count": 19,
     "metadata": {},
     "output_type": "execute_result"
    }
   ],
   "source": [
    "matrix"
   ]
  },
  {
   "cell_type": "code",
   "execution_count": null,
   "metadata": {},
   "outputs": [],
   "source": []
  }
 ],
 "metadata": {
  "kernelspec": {
   "display_name": "Python 3",
   "language": "python",
   "name": "python3"
  },
  "language_info": {
   "codemirror_mode": {
    "name": "ipython",
    "version": 3
   },
   "file_extension": ".py",
   "mimetype": "text/x-python",
   "name": "python",
   "nbconvert_exporter": "python",
   "pygments_lexer": "ipython3",
   "version": "3.7.1"
  }
 },
 "nbformat": 4,
 "nbformat_minor": 2
}
